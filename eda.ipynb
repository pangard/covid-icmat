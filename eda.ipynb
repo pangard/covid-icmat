{
 "cells": [
  {
   "cell_type": "code",
   "execution_count": 59,
   "metadata": {
    "collapsed": true
   },
   "outputs": [],
   "source": [
    "import numpy as np\n",
    "import pandas as pd\n",
    "from plotnine import *\n",
    "import urllib, json"
   ]
  },
  {
   "cell_type": "markdown",
   "metadata": {},
   "source": [
    "# Utils"
   ]
  },
  {
   "cell_type": "code",
   "execution_count": 60,
   "metadata": {
    "collapsed": true
   },
   "outputs": [],
   "source": [
    "def growth_rate(ser):\n",
    "    gr = np.exp(np.diff(np.log(ser))) - 1\n",
    "    return gr"
   ]
  },
  {
   "cell_type": "code",
   "execution_count": 61,
   "metadata": {
    "collapsed": true
   },
   "outputs": [],
   "source": [
    "def get_gr_country(df, country):\n",
    "    cont = df[df.Country == country]\n",
    "    ser  = cont[cont.Status == 'confirmed'].Cases\n",
    "    gr   = growth_rate(ser)\n",
    "    return gr"
   ]
  },
  {
   "cell_type": "markdown",
   "metadata": {},
   "source": [
    "# Data"
   ]
  },
  {
   "cell_type": "code",
   "execution_count": 62,
   "metadata": {},
   "outputs": [
    {
     "data": {
      "text/html": [
       "<div>\n",
       "<style scoped>\n",
       "    .dataframe tbody tr th:only-of-type {\n",
       "        vertical-align: middle;\n",
       "    }\n",
       "\n",
       "    .dataframe tbody tr th {\n",
       "        vertical-align: top;\n",
       "    }\n",
       "\n",
       "    .dataframe thead th {\n",
       "        text-align: right;\n",
       "    }\n",
       "</style>\n",
       "<table border=\"1\" class=\"dataframe\">\n",
       "  <thead>\n",
       "    <tr style=\"text-align: right;\">\n",
       "      <th></th>\n",
       "      <th>Country</th>\n",
       "      <th>Province</th>\n",
       "      <th>Lat</th>\n",
       "      <th>Lon</th>\n",
       "      <th>Date</th>\n",
       "      <th>Cases</th>\n",
       "      <th>Status</th>\n",
       "    </tr>\n",
       "  </thead>\n",
       "  <tbody>\n",
       "    <tr>\n",
       "      <td>0</td>\n",
       "      <td>Thailand</td>\n",
       "      <td></td>\n",
       "      <td>15.0</td>\n",
       "      <td>101.0</td>\n",
       "      <td>2020-01-22 00:00:00+00:00</td>\n",
       "      <td>2</td>\n",
       "      <td>confirmed</td>\n",
       "    </tr>\n",
       "    <tr>\n",
       "      <td>1</td>\n",
       "      <td>Thailand</td>\n",
       "      <td></td>\n",
       "      <td>15.0</td>\n",
       "      <td>101.0</td>\n",
       "      <td>2020-01-23 00:00:00+00:00</td>\n",
       "      <td>3</td>\n",
       "      <td>confirmed</td>\n",
       "    </tr>\n",
       "    <tr>\n",
       "      <td>2</td>\n",
       "      <td>Thailand</td>\n",
       "      <td></td>\n",
       "      <td>15.0</td>\n",
       "      <td>101.0</td>\n",
       "      <td>2020-01-24 00:00:00+00:00</td>\n",
       "      <td>5</td>\n",
       "      <td>confirmed</td>\n",
       "    </tr>\n",
       "    <tr>\n",
       "      <td>3</td>\n",
       "      <td>Thailand</td>\n",
       "      <td></td>\n",
       "      <td>15.0</td>\n",
       "      <td>101.0</td>\n",
       "      <td>2020-01-25 00:00:00+00:00</td>\n",
       "      <td>7</td>\n",
       "      <td>confirmed</td>\n",
       "    </tr>\n",
       "    <tr>\n",
       "      <td>4</td>\n",
       "      <td>Thailand</td>\n",
       "      <td></td>\n",
       "      <td>15.0</td>\n",
       "      <td>101.0</td>\n",
       "      <td>2020-01-26 00:00:00+00:00</td>\n",
       "      <td>8</td>\n",
       "      <td>confirmed</td>\n",
       "    </tr>\n",
       "  </tbody>\n",
       "</table>\n",
       "</div>"
      ],
      "text/plain": [
       "    Country Province   Lat    Lon                      Date  Cases     Status\n",
       "0  Thailand           15.0  101.0 2020-01-22 00:00:00+00:00      2  confirmed\n",
       "1  Thailand           15.0  101.0 2020-01-23 00:00:00+00:00      3  confirmed\n",
       "2  Thailand           15.0  101.0 2020-01-24 00:00:00+00:00      5  confirmed\n",
       "3  Thailand           15.0  101.0 2020-01-25 00:00:00+00:00      7  confirmed\n",
       "4  Thailand           15.0  101.0 2020-01-26 00:00:00+00:00      8  confirmed"
      ]
     },
     "execution_count": 62,
     "metadata": {},
     "output_type": "execute_result"
    }
   ],
   "source": [
    "df = pd.read_json('https://api.covid19api.com/all')\n",
    "df.head()"
   ]
  },
  {
   "cell_type": "code",
   "execution_count": 63,
   "metadata": {},
   "outputs": [
    {
     "data": {
      "text/plain": [
       "{Timestamp('2020-01-22 00:00:00+0000', tz='UTC'),\n",
       " Timestamp('2020-01-23 00:00:00+0000', tz='UTC'),\n",
       " Timestamp('2020-01-24 00:00:00+0000', tz='UTC'),\n",
       " Timestamp('2020-01-25 00:00:00+0000', tz='UTC'),\n",
       " Timestamp('2020-01-26 00:00:00+0000', tz='UTC'),\n",
       " Timestamp('2020-01-27 00:00:00+0000', tz='UTC'),\n",
       " Timestamp('2020-01-28 00:00:00+0000', tz='UTC'),\n",
       " Timestamp('2020-01-29 00:00:00+0000', tz='UTC'),\n",
       " Timestamp('2020-01-30 00:00:00+0000', tz='UTC'),\n",
       " Timestamp('2020-01-31 00:00:00+0000', tz='UTC'),\n",
       " Timestamp('2020-02-01 00:00:00+0000', tz='UTC'),\n",
       " Timestamp('2020-02-02 00:00:00+0000', tz='UTC'),\n",
       " Timestamp('2020-02-03 00:00:00+0000', tz='UTC'),\n",
       " Timestamp('2020-02-04 00:00:00+0000', tz='UTC'),\n",
       " Timestamp('2020-02-05 00:00:00+0000', tz='UTC'),\n",
       " Timestamp('2020-02-06 00:00:00+0000', tz='UTC'),\n",
       " Timestamp('2020-02-07 00:00:00+0000', tz='UTC'),\n",
       " Timestamp('2020-02-08 00:00:00+0000', tz='UTC'),\n",
       " Timestamp('2020-02-09 00:00:00+0000', tz='UTC'),\n",
       " Timestamp('2020-02-10 00:00:00+0000', tz='UTC'),\n",
       " Timestamp('2020-02-11 00:00:00+0000', tz='UTC'),\n",
       " Timestamp('2020-02-12 00:00:00+0000', tz='UTC'),\n",
       " Timestamp('2020-02-13 00:00:00+0000', tz='UTC'),\n",
       " Timestamp('2020-02-14 00:00:00+0000', tz='UTC'),\n",
       " Timestamp('2020-02-15 00:00:00+0000', tz='UTC'),\n",
       " Timestamp('2020-02-16 00:00:00+0000', tz='UTC'),\n",
       " Timestamp('2020-02-17 00:00:00+0000', tz='UTC'),\n",
       " Timestamp('2020-02-18 00:00:00+0000', tz='UTC'),\n",
       " Timestamp('2020-02-19 00:00:00+0000', tz='UTC'),\n",
       " Timestamp('2020-02-20 00:00:00+0000', tz='UTC'),\n",
       " Timestamp('2020-02-21 00:00:00+0000', tz='UTC'),\n",
       " Timestamp('2020-02-22 00:00:00+0000', tz='UTC'),\n",
       " Timestamp('2020-02-23 00:00:00+0000', tz='UTC'),\n",
       " Timestamp('2020-02-24 00:00:00+0000', tz='UTC'),\n",
       " Timestamp('2020-02-25 00:00:00+0000', tz='UTC'),\n",
       " Timestamp('2020-02-26 00:00:00+0000', tz='UTC'),\n",
       " Timestamp('2020-02-27 00:00:00+0000', tz='UTC'),\n",
       " Timestamp('2020-02-28 00:00:00+0000', tz='UTC'),\n",
       " Timestamp('2020-02-29 00:00:00+0000', tz='UTC'),\n",
       " Timestamp('2020-03-01 00:00:00+0000', tz='UTC'),\n",
       " Timestamp('2020-03-02 00:00:00+0000', tz='UTC'),\n",
       " Timestamp('2020-03-03 00:00:00+0000', tz='UTC'),\n",
       " Timestamp('2020-03-04 00:00:00+0000', tz='UTC'),\n",
       " Timestamp('2020-03-05 00:00:00+0000', tz='UTC'),\n",
       " Timestamp('2020-03-06 00:00:00+0000', tz='UTC'),\n",
       " Timestamp('2020-03-07 00:00:00+0000', tz='UTC'),\n",
       " Timestamp('2020-03-08 00:00:00+0000', tz='UTC'),\n",
       " Timestamp('2020-03-09 00:00:00+0000', tz='UTC'),\n",
       " Timestamp('2020-03-10 00:00:00+0000', tz='UTC'),\n",
       " Timestamp('2020-03-11 00:00:00+0000', tz='UTC'),\n",
       " Timestamp('2020-03-12 00:00:00+0000', tz='UTC'),\n",
       " Timestamp('2020-03-13 00:00:00+0000', tz='UTC'),\n",
       " Timestamp('2020-03-14 00:00:00+0000', tz='UTC')}"
      ]
     },
     "execution_count": 63,
     "metadata": {},
     "output_type": "execute_result"
    }
   ],
   "source": [
    "set(df.Date)"
   ]
  },
  {
   "cell_type": "code",
   "execution_count": 64,
   "metadata": {},
   "outputs": [
    {
     "name": "stderr",
     "output_type": "stream",
     "text": [
      "/home/roi/anaconda3/lib/python3.6/site-packages/plotnine/ggplot.py:729: PlotnineWarning: Saving 6.4 x 4.8 in image.\n",
      "  from_inches(height, units), units), PlotnineWarning)\n",
      "/home/roi/anaconda3/lib/python3.6/site-packages/plotnine/ggplot.py:730: PlotnineWarning: Filename: plots/australia.jpg\n",
      "  warn('Filename: {}'.format(filename), PlotnineWarning)\n"
     ]
    }
   ],
   "source": [
    "countries = df[df.Country.isin(['Australia'])]\n",
    "#countries = countries[countries.Province.isin(['Ohio','Washington, D.C.','South Carolina'])]\n",
    "p = ggplot(countries) + geom_line(aes(x = 'Date', y = 'Cases', color='Status'))\n",
    "p = p + facet_wrap('Province')\n",
    "p = p +theme(axis_text_x=element_text(rotation=45, hjust=1))\n",
    "p\n",
    "ggsave(p, 'plots/australia.jpg', dpi=300, device='jpg')"
   ]
  },
  {
   "cell_type": "markdown",
   "metadata": {},
   "source": [
    "## Growth Rate"
   ]
  },
  {
   "cell_type": "code",
   "execution_count": 65,
   "metadata": {},
   "outputs": [
    {
     "name": "stderr",
     "output_type": "stream",
     "text": [
      "/home/roi/anaconda3/lib/python3.6/site-packages/pandas/core/series.py:853: RuntimeWarning: divide by zero encountered in log\n",
      "  result = getattr(ufunc, method)(*inputs, **kwargs)\n",
      "/home/roi/anaconda3/lib/python3.6/site-packages/numpy/lib/function_base.py:1269: RuntimeWarning: invalid value encountered in subtract\n",
      "  a = op(a[slice1], a[slice2])\n"
     ]
    }
   ],
   "source": [
    "sp = get_gr_country(df, 'Spain')\n",
    "it = get_gr_country(df, 'Italy')"
   ]
  },
  {
   "cell_type": "code",
   "execution_count": 66,
   "metadata": {},
   "outputs": [
    {
     "data": {
      "text/plain": [
       "array([       nan,        nan,        nan,        nan,        nan,\n",
       "              nan,        nan,        nan,        nan,        inf,\n",
       "       0.        , 0.        , 0.        , 0.        , 0.        ,\n",
       "       0.        , 0.        , 1.        , 0.        , 0.        ,\n",
       "       0.        , 0.        , 0.        , 0.        , 0.        ,\n",
       "       0.        , 0.        , 0.        , 0.        , 0.        ,\n",
       "       0.        , 0.        , 0.        , 2.        , 1.16666667,\n",
       "       0.15384615, 1.13333333, 0.40625   , 0.86666667, 0.42857143,\n",
       "       0.375     , 0.34545455, 0.16666667, 0.54440154, 0.25      ,\n",
       "       0.346     , 0.59435364, 0.57968313, 0.34336283, 0.        ,\n",
       "       1.29776021, 0.22152141])"
      ]
     },
     "execution_count": 66,
     "metadata": {},
     "output_type": "execute_result"
    }
   ],
   "source": [
    "sp"
   ]
  },
  {
   "cell_type": "code",
   "execution_count": 67,
   "metadata": {},
   "outputs": [
    {
     "data": {
      "text/plain": [
       "array([       nan,        nan,        nan,        nan,        nan,\n",
       "              nan,        nan,        nan,        inf, 0.        ,\n",
       "       0.        , 0.        , 0.        , 0.        , 0.        ,\n",
       "       0.5       , 0.        , 0.        , 0.        , 0.        ,\n",
       "       0.        , 0.        , 0.        , 0.        , 0.        ,\n",
       "       0.        , 0.        , 0.        , 0.        , 5.66666667,\n",
       "       2.1       , 1.5       , 0.47741935, 0.40611354, 0.4068323 ,\n",
       "       0.44591611, 0.35572519, 0.27027027, 0.50177305, 0.20188902,\n",
       "       0.22888016, 0.23461231, 0.24894788, 0.20165889, 0.26898188,\n",
       "       0.2536121 , 0.24366102, 0.10651984, 0.22790423, 0.        ,\n",
       "       0.41710801, 0.19801812])"
      ]
     },
     "execution_count": 67,
     "metadata": {},
     "output_type": "execute_result"
    }
   ],
   "source": [
    "it"
   ]
  },
  {
   "cell_type": "code",
   "execution_count": 68,
   "metadata": {
    "collapsed": true
   },
   "outputs": [],
   "source": [
    "names = np.concatenate(\n",
    "    (np.array(['Italia' for _ in range(len(it))]), np.array(['España' for _ in range(len(it))])\n",
    "    )\n",
    "    )\n",
    "\n",
    "values = np.concatenate( (it, sp) )\n",
    "dates = df[(df.Country == 'Spain') & (df.Status == 'confirmed')].Date.values[1:]\n",
    "fechas = np.concatenate( (dates, dates) )\n",
    "gr_df = pd.DataFrame({'País' : names, 'Fechas':fechas, 'Tasa de Crecimiento':values})"
   ]
  },
  {
   "cell_type": "code",
   "execution_count": 69,
   "metadata": {
    "collapsed": true
   },
   "outputs": [],
   "source": [
    "per = gr_df[gr_df.Fechas > '2020-02-15']"
   ]
  },
  {
   "cell_type": "code",
   "execution_count": 70,
   "metadata": {},
   "outputs": [
    {
     "data": {
      "image/png": "[encoded data removed]",
      "text/plain": [
       "<Figure size 640x480 with 1 Axes>"
      ]
     },
     "metadata": {},
     "output_type": "display_data"
    },
    {
     "data": {
      "text/plain": [
       "<ggplot: (8788400712775)>"
      ]
     },
     "execution_count": 70,
     "metadata": {},
     "output_type": "execute_result"
    }
   ],
   "source": [
    "p = ggplot(per) + geom_line(aes(x = 'Fechas', y = 'Tasa de Crecimiento', color='País'))\n",
    "p = p +theme(axis_text_x=element_text(rotation=45, hjust=1))\n",
    "p"
   ]
  },
  {
   "cell_type": "code",
   "execution_count": 180,
   "metadata": {},
   "outputs": [
    {
     "name": "stderr",
     "output_type": "stream",
     "text": [
      "/home/roi/anaconda3/lib/python3.6/site-packages/plotnine/ggplot.py:729: PlotnineWarning: Saving 6.4 x 4.8 in image.\n",
      "  from_inches(height, units), units), PlotnineWarning)\n",
      "/home/roi/anaconda3/lib/python3.6/site-packages/plotnine/ggplot.py:730: PlotnineWarning: Filename: plots/crecimiento.jpg\n",
      "  warn('Filename: {}'.format(filename), PlotnineWarning)\n"
     ]
    }
   ],
   "source": [
    "ggsave(p, 'plots/crecimiento.jpg', dpi=300, device='jpg')"
   ]
  },
  {
   "cell_type": "markdown",
   "metadata": {},
   "source": [
    "# More Data"
   ]
  },
  {
   "cell_type": "code",
   "execution_count": 55,
   "metadata": {},
   "outputs": [
    {
     "data": {
      "text/html": [
       "<div>\n",
       "<style scoped>\n",
       "    .dataframe tbody tr th:only-of-type {\n",
       "        vertical-align: middle;\n",
       "    }\n",
       "\n",
       "    .dataframe tbody tr th {\n",
       "        vertical-align: top;\n",
       "    }\n",
       "\n",
       "    .dataframe thead th {\n",
       "        text-align: right;\n",
       "    }\n",
       "</style>\n",
       "<table border=\"1\" class=\"dataframe\">\n",
       "  <thead>\n",
       "    <tr style=\"text-align: right;\">\n",
       "      <th></th>\n",
       "      <th>Province/State</th>\n",
       "      <th>Country/Region</th>\n",
       "      <th>Lat</th>\n",
       "      <th>Long</th>\n",
       "      <th>1/22/20</th>\n",
       "      <th>1/23/20</th>\n",
       "      <th>1/24/20</th>\n",
       "      <th>1/25/20</th>\n",
       "      <th>1/26/20</th>\n",
       "      <th>1/27/20</th>\n",
       "      <th>...</th>\n",
       "      <th>3/6/20</th>\n",
       "      <th>3/7/20</th>\n",
       "      <th>3/8/20</th>\n",
       "      <th>3/9/20</th>\n",
       "      <th>3/10/20</th>\n",
       "      <th>3/11/20</th>\n",
       "      <th>3/12/20</th>\n",
       "      <th>3/13/20</th>\n",
       "      <th>3/14/20</th>\n",
       "      <th>3/15/20</th>\n",
       "    </tr>\n",
       "  </thead>\n",
       "  <tbody>\n",
       "    <tr>\n",
       "      <td>0</td>\n",
       "      <td>NaN</td>\n",
       "      <td>Thailand</td>\n",
       "      <td>15.0000</td>\n",
       "      <td>101.0000</td>\n",
       "      <td>2</td>\n",
       "      <td>3</td>\n",
       "      <td>5</td>\n",
       "      <td>7</td>\n",
       "      <td>8</td>\n",
       "      <td>8</td>\n",
       "      <td>...</td>\n",
       "      <td>48</td>\n",
       "      <td>50</td>\n",
       "      <td>50</td>\n",
       "      <td>50</td>\n",
       "      <td>53</td>\n",
       "      <td>59</td>\n",
       "      <td>70</td>\n",
       "      <td>75</td>\n",
       "      <td>82</td>\n",
       "      <td>114</td>\n",
       "    </tr>\n",
       "    <tr>\n",
       "      <td>1</td>\n",
       "      <td>NaN</td>\n",
       "      <td>Japan</td>\n",
       "      <td>36.0000</td>\n",
       "      <td>138.0000</td>\n",
       "      <td>2</td>\n",
       "      <td>1</td>\n",
       "      <td>2</td>\n",
       "      <td>2</td>\n",
       "      <td>4</td>\n",
       "      <td>4</td>\n",
       "      <td>...</td>\n",
       "      <td>420</td>\n",
       "      <td>461</td>\n",
       "      <td>502</td>\n",
       "      <td>511</td>\n",
       "      <td>581</td>\n",
       "      <td>639</td>\n",
       "      <td>639</td>\n",
       "      <td>701</td>\n",
       "      <td>773</td>\n",
       "      <td>839</td>\n",
       "    </tr>\n",
       "    <tr>\n",
       "      <td>2</td>\n",
       "      <td>NaN</td>\n",
       "      <td>Singapore</td>\n",
       "      <td>1.2833</td>\n",
       "      <td>103.8333</td>\n",
       "      <td>0</td>\n",
       "      <td>1</td>\n",
       "      <td>3</td>\n",
       "      <td>3</td>\n",
       "      <td>4</td>\n",
       "      <td>5</td>\n",
       "      <td>...</td>\n",
       "      <td>130</td>\n",
       "      <td>138</td>\n",
       "      <td>150</td>\n",
       "      <td>150</td>\n",
       "      <td>160</td>\n",
       "      <td>178</td>\n",
       "      <td>178</td>\n",
       "      <td>200</td>\n",
       "      <td>212</td>\n",
       "      <td>226</td>\n",
       "    </tr>\n",
       "    <tr>\n",
       "      <td>3</td>\n",
       "      <td>NaN</td>\n",
       "      <td>Nepal</td>\n",
       "      <td>28.1667</td>\n",
       "      <td>84.2500</td>\n",
       "      <td>0</td>\n",
       "      <td>0</td>\n",
       "      <td>0</td>\n",
       "      <td>1</td>\n",
       "      <td>1</td>\n",
       "      <td>1</td>\n",
       "      <td>...</td>\n",
       "      <td>1</td>\n",
       "      <td>1</td>\n",
       "      <td>1</td>\n",
       "      <td>1</td>\n",
       "      <td>1</td>\n",
       "      <td>1</td>\n",
       "      <td>1</td>\n",
       "      <td>1</td>\n",
       "      <td>1</td>\n",
       "      <td>1</td>\n",
       "    </tr>\n",
       "    <tr>\n",
       "      <td>4</td>\n",
       "      <td>NaN</td>\n",
       "      <td>Malaysia</td>\n",
       "      <td>2.5000</td>\n",
       "      <td>112.5000</td>\n",
       "      <td>0</td>\n",
       "      <td>0</td>\n",
       "      <td>0</td>\n",
       "      <td>3</td>\n",
       "      <td>4</td>\n",
       "      <td>4</td>\n",
       "      <td>...</td>\n",
       "      <td>83</td>\n",
       "      <td>93</td>\n",
       "      <td>99</td>\n",
       "      <td>117</td>\n",
       "      <td>129</td>\n",
       "      <td>149</td>\n",
       "      <td>149</td>\n",
       "      <td>197</td>\n",
       "      <td>238</td>\n",
       "      <td>428</td>\n",
       "    </tr>\n",
       "  </tbody>\n",
       "</table>\n",
       "<p>5 rows × 58 columns</p>\n",
       "</div>"
      ],
      "text/plain": [
       "  Province/State Country/Region      Lat      Long  1/22/20  1/23/20  1/24/20  \\\n",
       "0            NaN       Thailand  15.0000  101.0000        2        3        5   \n",
       "1            NaN          Japan  36.0000  138.0000        2        1        2   \n",
       "2            NaN      Singapore   1.2833  103.8333        0        1        3   \n",
       "3            NaN          Nepal  28.1667   84.2500        0        0        0   \n",
       "4            NaN       Malaysia   2.5000  112.5000        0        0        0   \n",
       "\n",
       "   1/25/20  1/26/20  1/27/20  ...  3/6/20  3/7/20  3/8/20  3/9/20  3/10/20  \\\n",
       "0        7        8        8  ...      48      50      50      50       53   \n",
       "1        2        4        4  ...     420     461     502     511      581   \n",
       "2        3        4        5  ...     130     138     150     150      160   \n",
       "3        1        1        1  ...       1       1       1       1        1   \n",
       "4        3        4        4  ...      83      93      99     117      129   \n",
       "\n",
       "   3/11/20  3/12/20  3/13/20  3/14/20  3/15/20  \n",
       "0       59       70       75       82      114  \n",
       "1      639      639      701      773      839  \n",
       "2      178      178      200      212      226  \n",
       "3        1        1        1        1        1  \n",
       "4      149      149      197      238      428  \n",
       "\n",
       "[5 rows x 58 columns]"
      ]
     },
     "execution_count": 55,
     "metadata": {},
     "output_type": "execute_result"
    }
   ],
   "source": [
    "df = pd.read_csv('data/COVID-19/csse_covid_19_data/csse_covid_19_time_series/time_series_19-covid-Confirmed.csv')\n",
    "df.head()"
   ]
  },
  {
   "cell_type": "code",
   "execution_count": 15,
   "metadata": {},
   "outputs": [],
   "source": [
    "ita_vs_spain = df[df['Country/Region'].isin(['Italy', 'Spain'])]"
   ]
  },
  {
   "cell_type": "code",
   "execution_count": 29,
   "metadata": {},
   "outputs": [],
   "source": [
    "melted = pd.melt(ita_vs_spain, id_vars=['Province/State', 'Country/Region', 'Lat', 'Long'])\n",
    "melted.variable = pd.to_datetime(melted.variable)\n",
    "melted.columns = ['Province', 'Country', 'Lat', 'Long', 'Date', 'Cases']"
   ]
  },
  {
   "cell_type": "code",
   "execution_count": 30,
   "metadata": {},
   "outputs": [
    {
     "data": {
      "image/png": "[encoded data removed]",
      "text/plain": [
       "<Figure size 640x480 with 1 Axes>"
      ]
     },
     "metadata": {},
     "output_type": "display_data"
    },
    {
     "data": {
      "text/plain": [
       "<ggplot: (-9223363248454283488)>"
      ]
     },
     "execution_count": 30,
     "metadata": {},
     "output_type": "execute_result"
    }
   ],
   "source": [
    "p = ggplot(melted) + geom_line(aes(x = 'Date', y = 'Cases', color='Country'))\n",
    "p = p + theme(axis_text_x=element_text(rotation=45, hjust=1))\n",
    "p"
   ]
  },
  {
   "cell_type": "code",
   "execution_count": 34,
   "metadata": {},
   "outputs": [
    {
     "name": "stderr",
     "output_type": "stream",
     "text": [
      "/home/roi/anaconda3/lib/python3.6/site-packages/pandas/core/series.py:853: RuntimeWarning: divide by zero encountered in log\n",
      "  result = getattr(ufunc, method)(*inputs, **kwargs)\n",
      "/home/roi/anaconda3/lib/python3.6/site-packages/numpy/lib/function_base.py:1269: RuntimeWarning: invalid value encountered in subtract\n",
      "  a = op(a[slice1], a[slice2])\n"
     ]
    }
   ],
   "source": [
    "ser = melted[melted.Country == 'Italy'].Cases\n",
    "it   = growth_rate(ser)\n",
    "\n",
    "ser = melted[melted.Country == 'Spain'].Cases\n",
    "sp   = growth_rate(ser)"
   ]
  },
  {
   "cell_type": "code",
   "execution_count": 50,
   "metadata": {},
   "outputs": [],
   "source": [
    "names = np.concatenate(\n",
    "    (np.array(['Italia' for _ in range(len(it))]), np.array(['España' for _ in range(len(it))])\n",
    "    )\n",
    "    )\n",
    "\n",
    "values = np.concatenate( (it, sp) )\n",
    "dates1 = melted[melted.Country == 'Italy'].Date.values[1:]\n",
    "dates2 = melted[melted.Country == 'Spain'].Date.values[1:]\n",
    "fechas = np.concatenate( (dates1, dates2) )\n",
    "gr_df = pd.DataFrame({'País' : names, 'Fechas':fechas, 'Tasa de Crecimiento':values})"
   ]
  },
  {
   "cell_type": "code",
   "execution_count": 53,
   "metadata": {},
   "outputs": [
    {
     "name": "stderr",
     "output_type": "stream",
     "text": [
      "/home/roi/anaconda3/lib/python3.6/site-packages/plotnine/ggplot.py:729: PlotnineWarning: Saving 6.4 x 4.8 in image.\n",
      "  from_inches(height, units), units), PlotnineWarning)\n",
      "/home/roi/anaconda3/lib/python3.6/site-packages/plotnine/ggplot.py:730: PlotnineWarning: Filename: plots/crecimiento.jpg\n",
      "  warn('Filename: {}'.format(filename), PlotnineWarning)\n"
     ]
    }
   ],
   "source": [
    "per = gr_df[gr_df.Fechas > '2020-02-15']\n",
    "p = ggplot(per) + geom_line(aes(x = 'Fechas', y = 'Tasa de Crecimiento', color='País'))\n",
    "p = p +theme(axis_text_x=element_text(rotation=45, hjust=1))\n",
    "p\n",
    "ggsave(p, 'plots/crecimiento.jpg', dpi=300, device='jpg')"
   ]
  }
 ],
 "metadata": {
  "kernelspec": {
   "display_name": "Python 3",
   "language": "python",
   "name": "python3"
  },
  "language_info": {
   "codemirror_mode": {
    "name": "ipython",
    "version": 3
   },
   "file_extension": ".py",
   "mimetype": "text/x-python",
   "name": "python",
   "nbconvert_exporter": "python",
   "pygments_lexer": "ipython3",
   "version": "3.6.8"
  }
 },
 "nbformat": 4,
 "nbformat_minor": 2
}
